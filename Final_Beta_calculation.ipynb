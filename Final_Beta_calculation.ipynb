{
  "nbformat": 4,
  "nbformat_minor": 0,
  "metadata": {
    "colab": {
      "name": "Final Beta_calculation.ipynb",
      "version": "0.3.2",
      "provenance": [],
      "collapsed_sections": [],
      "include_colab_link": true
    },
    "kernelspec": {
      "name": "python3",
      "display_name": "Python 3"
    }
  },
  "cells": [
    {
      "cell_type": "markdown",
      "metadata": {
        "id": "view-in-github",
        "colab_type": "text"
      },
      "source": [
        "<a href=\"https://colab.research.google.com/github/Jhenry19-py/Stock_Beta_Calculator/blob/master/Final_Beta_calculation.ipynb\" target=\"_parent\"><img src=\"https://colab.research.google.com/assets/colab-badge.svg\" alt=\"Open In Colab\"/></a>"
      ]
    },
    {
      "cell_type": "code",
      "metadata": {
        "id": "Pyq3CsxxoEFN",
        "colab_type": "code",
        "colab": {}
      },
      "source": [
        "import datetime as dt\n",
        "import pandas_datareader.data as web\n",
        "import pandas as pd\n",
        "import numpy as np"
      ],
      "execution_count": 0,
      "outputs": []
    },
    {
      "cell_type": "code",
      "metadata": {
        "id": "NkgXe5j8rGzs",
        "colab_type": "code",
        "colab": {}
      },
      "source": [
        "end_date = dt.date.today() # get today's date\n",
        "\n",
        "# go three years (156 weeks) into the past\n",
        "\n",
        "start_date = end_date - dt.timedelta(weeks=156) \n",
        "tickers = ['AAPL', 'SPY'] # tickers for DataFrame\n",
        "df = pd.DataFrame() # Empty DataFrame to populate"
      ],
      "execution_count": 0,
      "outputs": []
    },
    {
      "cell_type": "code",
      "metadata": {
        "id": "J4AJySnnoLqs",
        "colab_type": "code",
        "colab": {}
      },
      "source": [
        "def get_prices(start, end, ticker):\n",
        "    \"\"\" This function downloads price data for\n",
        "        a given ticker from the start date until\n",
        "        the end date\n",
        "    \"\"\"\n",
        "    \n",
        "    # Create a column in the empty DataFrame with the \n",
        "    # ticker's name and adjusted close prices as values\n",
        "    df[ticker] = web.DataReader(ticker, 'yahoo', start, end)['Close']\n",
        "    return df"
      ],
      "execution_count": 0,
      "outputs": []
    },
    {
      "cell_type": "code",
      "metadata": {
        "id": "QktW8lIKpEmR",
        "colab_type": "code",
        "colab": {}
      },
      "source": [
        "# iterate through the list of tickers given above\n",
        "# and download price data for each ticker\n",
        "for ticker in tickers:\n",
        "    get_prices(start_date, end_date, ticker)\n",
        "        \n",
        "# Change the dates in the DataFrame from daily to monthly\n",
        "# This ensures that only monthly prices remain\n",
        "monthly_dates = pd.bdate_range(start_date, end_date, freq='BM') # freq=BM to only include business days\n",
        "monthly_dates.name = 'Month'\n",
        "df = df.reindex(monthly_dates)\n",
        "\n",
        "#drop any NaN values from the DataFrame\n",
        "df.dropna(inplace=True)\n"
      ],
      "execution_count": 0,
      "outputs": []
    },
    {
      "cell_type": "code",
      "metadata": {
        "id": "uuJ0gdYqSraX",
        "colab_type": "code",
        "colab": {}
      },
      "source": [
        "df"
      ],
      "execution_count": 0,
      "outputs": []
    },
    {
      "cell_type": "code",
      "metadata": {
        "id": "PORcGRlupJ6i",
        "colab_type": "code",
        "outputId": "57287b32-916f-4ac9-8f61-fa27695a384f",
        "colab": {
          "base_uri": "https://localhost:8080/",
          "height": 34
        }
      },
      "source": [
        "def calculate_beta():\n",
        "    \"\"\" This function calculates the Beta of\n",
        "        a given company to the market (SPY).\n",
        "    \"\"\"\n",
        "    returns = df.pct_change() # compute monthly returns\n",
        "\n",
        "    cov_matrix = returns.cov() * np.sqrt(12) # create a covariance matrix\n",
        "    \n",
        "    # locate covariance with the market in the cov matrix\n",
        "    cov_with_market = cov_matrix.loc[tickers[0], 'SPY'] \n",
        "    \n",
        "    # Calculate market variance\n",
        "    market_variance = returns['SPY'].var() * np.sqrt(12)\n",
        "    \n",
        "    Beta = cov_with_market / market_variance # Calculate Beta\n",
        "    return round(Beta, 2)\n",
        "\n",
        "\n",
        "calculate_beta()"
      ],
      "execution_count": 0,
      "outputs": [
        {
          "output_type": "execute_result",
          "data": {
            "text/plain": [
              "0.91"
            ]
          },
          "metadata": {
            "tags": []
          },
          "execution_count": 6
        }
      ]
    },
    {
      "cell_type": "code",
      "metadata": {
        "id": "lcVXD17x2vXX",
        "colab_type": "code",
        "colab": {}
      },
      "source": [
        ""
      ],
      "execution_count": 0,
      "outputs": []
    }
  ]
}